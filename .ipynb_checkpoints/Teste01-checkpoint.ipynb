{
 "cells": [
  {
   "cell_type": "markdown",
   "metadata": {
    "colab_type": "text",
    "id": "view-in-github"
   },
   "source": [
    "<a href=\"https://colab.research.google.com/github/bragancaFeup/Intro_Python/blob/master/Teste01.ipynb\" target=\"_parent\"><img src=\"https://colab.research.google.com/assets/colab-badge.svg\" alt=\"Open In Colab\"/></a>"
   ]
  },
  {
   "cell_type": "markdown",
   "metadata": {
    "colab_type": "text",
    "id": "5wntBT3NzNRj"
   },
   "source": [
    "Pagina de teste"
   ]
  },
  {
   "cell_type": "code",
   "execution_count": null,
   "metadata": {
    "colab": {},
    "colab_type": "code",
    "id": "0KHK0_O4M-L7"
   },
   "outputs": [],
   "source": []
  },
  {
   "cell_type": "markdown",
   "metadata": {
    "colab_type": "text",
    "id": "7kYnMaGXzT9u"
   },
   "source": [
    "\n",
    "\n",
    "1.   Calcular a area de um  triangulo\n",
    "\n",
    "\n"
   ]
  },
  {
   "cell_type": "code",
   "execution_count": null,
   "metadata": {},
   "outputs": [],
   "source": []
  },
  {
   "cell_type": "code",
   "execution_count": null,
   "metadata": {
    "colab": {
     "base_uri": "https://localhost:8080/",
     "height": 68
    },
    "colab_type": "code",
    "id": "HwsFbwhsM-MF",
    "outputId": "5158dbd5-aa4c-42b5-ef2e-a093796d3e54"
   },
   "outputs": [],
   "source": [
    "\"\"\"\n",
    "#Autor: Bragança\n",
    "#Data: 2019\n",
    "#Objectivo: Calcular a Área de um triângulo sendo dados os valores\n",
    "# da base e da altura.\n",
    "\n",
    "\n",
    "\"\"\"\n",
    "#Variáveis:\n",
    "Base = float()  #Base do triângulo\n",
    "Altura = float()  #Altura do triângulo\n",
    "Area = float()  #Área do triângulo\n",
    "Base = float(input(\"Base do triângulo: \"))\n",
    "Altura = float(input(\"Altura do triângulo: \"))\n",
    "Area = Base * Altura / 2\n",
    "\n",
    "print(\"Área do triângulo = \" + str(Area))"
   ]
  },
  {
   "cell_type": "markdown",
   "metadata": {
    "colab": {},
    "colab_type": "code",
    "id": "A4iLeW4JM-MP"
   },
   "source": [
    "Dados dois números determinar qual o maior\n"
   ]
  },
  {
   "cell_type": "code",
   "execution_count": 1,
   "metadata": {},
   "outputs": [
    {
     "name": "stdout",
     "output_type": "stream",
     "text": [
      "Primeiro valor: 4\n",
      "Segundo valor: 5\n",
      "Valor máximo = 5.0\n"
     ]
    }
   ],
   "source": [
    "\"\"\"\n",
    "# Autor:  Bragança\n",
    "# Data: 2019\n",
    "# Objectivo: Dados dois números determinar qual o maior\n",
    "# Variáveis:\n",
    "# Valor1, Valor2 Valores dados\n",
    "# Maximo Valor máximo\n",
    "\"\"\"\n",
    "Valor1 = float(input(\"Primeiro valor: \"))\n",
    "Valor2 = float(input(\"Segundo valor: \"))\n",
    "\n",
    "if Valor1 > Valor2:\n",
    "    Maximo = Valor1\n",
    "else:\n",
    "    Maximo = Valor2\n",
    "\n",
    "print(\"Valor máximo = \" + str(Maximo))"
   ]
  }
 ],
 "metadata": {
  "colab": {
   "include_colab_link": true,
   "name": "Teste01.ipynb",
   "provenance": []
  },
  "kernelspec": {
   "display_name": "Python 3",
   "language": "python",
   "name": "python3"
  },
  "language_info": {
   "codemirror_mode": {
    "name": "ipython",
    "version": 3
   },
   "file_extension": ".py",
   "mimetype": "text/x-python",
   "name": "python",
   "nbconvert_exporter": "python",
   "pygments_lexer": "ipython3",
   "version": "3.7.7"
  }
 },
 "nbformat": 4,
 "nbformat_minor": 1
}
