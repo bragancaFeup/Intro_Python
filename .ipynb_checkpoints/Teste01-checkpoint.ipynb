{
 "cells": [
  {
   "cell_type": "markdown",
   "metadata": {
    "colab_type": "text",
    "id": "view-in-github"
   },
   "source": [
    "<a href=\"https://colab.research.google.com/github/bragancaFeup/Intro_Python/blob/master/Teste01.ipynb\" target=\"_parent\"><img src=\"https://colab.research.google.com/assets/colab-badge.svg\" alt=\"Open In Colab\"/></a>"
   ]
  },
  {
   "cell_type": "markdown",
   "metadata": {
    "colab_type": "text",
    "id": "5wntBT3NzNRj"
   },
   "source": [
    "Pagina de teste"
   ]
  },
  {
   "cell_type": "code",
   "execution_count": null,
   "metadata": {},
   "outputs": [],
   "source": []
  },
  {
   "cell_type": "markdown",
   "metadata": {
    "colab_type": "text",
    "id": "7kYnMaGXzT9u"
   },
   "source": [
    "\n",
    "\n",
    "1.   Calcular a area de um  triangulo\n",
    "2.   List item\n",
    "\n"
   ]
  },
  {
   "cell_type": "code",
   "execution_count": 1,
   "metadata": {},
   "outputs": [
    {
     "name": "stdout",
     "output_type": "stream",
     "text": [
      "Base do triângulo: 4\n",
      "Altura do triângulo: 6\n",
      "Área do triângulo = 12.0\n"
     ]
    }
   ],
   "source": [
    "\"\"\"\n",
    "#Autor: Bragança\n",
    "#Data: 2019\n",
    "#Objectivo: Calcular a Área de um triângulo sendo dados os valores\n",
    "# da base e da altura.\n",
    "\n",
    "\n",
    "\"\"\"\n",
    "#Variáveis:\n",
    "Base = float()  #Base do triângulo\n",
    "Altura = float()  #Altura do triângulo\n",
    "Area = float()  #Área do triângulo\n",
    "Base = float(input(\"Base do triângulo: \"))\n",
    "Altura = float(input(\"Altura do triângulo: \"))\n",
    "Area = Base * Altura / 2\n",
    "\n",
    "print(\"Área do triângulo = \" + str(Area))"
   ]
  },
  {
   "cell_type": "code",
   "execution_count": null,
   "metadata": {},
   "outputs": [],
   "source": []
  }
 ],
 "metadata": {
  "colab": {
   "authorship_tag": "ABX9TyP3AA5bZDp+IfVccDweR4sB",
   "include_colab_link": true,
   "name": "Teste01.ipynb",
   "provenance": []
  },
  "kernelspec": {
   "display_name": "Python 3",
   "language": "python",
   "name": "python3"
  },
  "language_info": {
   "codemirror_mode": {
    "name": "ipython",
    "version": 3
   },
   "file_extension": ".py",
   "mimetype": "text/x-python",
   "name": "python",
   "nbconvert_exporter": "python",
   "pygments_lexer": "ipython3",
   "version": "3.7.7"
  }
 },
 "nbformat": 4,
 "nbformat_minor": 1
}
