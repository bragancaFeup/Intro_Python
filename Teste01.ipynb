{
  "nbformat": 4,
  "nbformat_minor": 0,
  "metadata": {
    "colab": {
      "name": "Teste01.ipynb",
      "provenance": [],
      "include_colab_link": true
    },
    "kernelspec": {
      "display_name": "Python 3",
      "language": "python",
      "name": "python3"
    },
    "language_info": {
      "codemirror_mode": {
        "name": "ipython",
        "version": 3
      },
      "file_extension": ".py",
      "mimetype": "text/x-python",
      "name": "python",
      "nbconvert_exporter": "python",
      "pygments_lexer": "ipython3",
      "version": "3.7.7"
    }
  },
  "cells": [
    {
      "cell_type": "markdown",
      "metadata": {
        "id": "view-in-github",
        "colab_type": "text"
      },
      "source": [
        "<a href=\"https://colab.research.google.com/github/bragancaFeup/Intro_Python/blob/master/Teste01.ipynb\" target=\"_parent\"><img src=\"https://colab.research.google.com/assets/colab-badge.svg\" alt=\"Open In Colab\"/></a>"
      ]
    },
    {
      "cell_type": "markdown",
      "metadata": {
        "colab_type": "text",
        "id": "5wntBT3NzNRj"
      },
      "source": [
        "Pagina de teste"
      ]
    },
    {
      "cell_type": "code",
      "metadata": {
        "id": "0KHK0_O4M-L7",
        "colab_type": "code",
        "colab": {}
      },
      "source": [
        ""
      ],
      "execution_count": null,
      "outputs": []
    },
    {
      "cell_type": "markdown",
      "metadata": {
        "colab_type": "text",
        "id": "7kYnMaGXzT9u"
      },
      "source": [
        "\n",
        "\n",
        "1.   Calcular a area de um  triangulo\n",
        "2.   List item\n",
        "\n"
      ]
    },
    {
      "cell_type": "code",
      "metadata": {
        "id": "HwsFbwhsM-MF",
        "colab_type": "code",
        "colab": {
          "base_uri": "https://localhost:8080/",
          "height": 68
        },
        "outputId": "5158dbd5-aa4c-42b5-ef2e-a093796d3e54"
      },
      "source": [
        "\"\"\"\n",
        "#Autor: Bragança\n",
        "#Data: 2019\n",
        "#Objectivo: Calcular a Área de um triângulo sendo dados os valores\n",
        "# da base e da altura.\n",
        "\n",
        "\n",
        "\"\"\"\n",
        "#Variáveis:\n",
        "Base = float()  #Base do triângulo\n",
        "Altura = float()  #Altura do triângulo\n",
        "Area = float()  #Área do triângulo\n",
        "Base = float(input(\"Base do triângulo: \"))\n",
        "Altura = float(input(\"Altura do triângulo: \"))\n",
        "Area = Base * Altura / 2\n",
        "\n",
        "print(\"Área do triângulo = \" + str(Area))"
      ],
      "execution_count": 1,
      "outputs": [
        {
          "output_type": "stream",
          "text": [
            "Base do triângulo: 1\n",
            "Altura do triângulo: 2\n",
            "Área do triângulo = 1.0\n"
          ],
          "name": "stdout"
        }
      ]
    },
    {
      "cell_type": "code",
      "metadata": {
        "id": "A4iLeW4JM-MP",
        "colab_type": "code",
        "colab": {}
      },
      "source": [
        ""
      ],
      "execution_count": null,
      "outputs": []
    }
  ]
}