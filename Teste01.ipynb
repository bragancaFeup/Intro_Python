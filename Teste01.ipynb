{
  "nbformat": 4,
  "nbformat_minor": 0,
  "metadata": {
    "colab": {
      "name": "Teste01.ipynb",
      "provenance": [],
      "authorship_tag": "ABX9TyP3AA5bZDp+IfVccDweR4sB",
      "include_colab_link": true
    },
    "kernelspec": {
      "name": "python3",
      "display_name": "Python 3"
    }
  },
  "cells": [
    {
      "cell_type": "markdown",
      "metadata": {
        "id": "view-in-github",
        "colab_type": "text"
      },
      "source": [
        "<a href=\"https://colab.research.google.com/github/bragancaFeup/Intro_Python/blob/master/Teste01.ipynb\" target=\"_parent\"><img src=\"https://colab.research.google.com/assets/colab-badge.svg\" alt=\"Open In Colab\"/></a>"
      ]
    },
    {
      "cell_type": "markdown",
      "metadata": {
        "id": "5wntBT3NzNRj",
        "colab_type": "text"
      },
      "source": [
        "Pagina de teste"
      ]
    },
    {
      "cell_type": "markdown",
      "metadata": {
        "id": "7kYnMaGXzT9u",
        "colab_type": "text"
      },
      "source": [
        "\n",
        "\n",
        "1.   Calculat area triangulo\n",
        "2.   List item\n",
        "\n"
      ]
    },
    {
      "cell_type": "code",
      "metadata": {
        "id": "GmcueeiGzJNU",
        "colab_type": "code",
        "colab": {
          "base_uri": "https://localhost:8080/",
          "height": 68
        },
        "outputId": "f74b4182-af86-4d86-91bd-c7b317f6d85c"
      },
      "source": [
        "\"\"\"\n",
        "#Autor: Bragança\n",
        "#Data: 2019\n",
        "#Objectivo: Calcular a Área de um triângulo sendo dados os valores\n",
        "# da base e da altura.\n",
        "\n",
        "\n",
        "\"\"\"\n",
        "#Variáveis:\n",
        "Base = float()  #Base do triângulo\n",
        "Altura = float()  #Altura do triângulo\n",
        "Area = float()  #Área do triângulo\n",
        "Base = float(input(\"Base do triângulo: \"))\n",
        "Altura = float(input(\"Altura do triângulo: \"))\n",
        "Area = Base * Altura / 2\n",
        "\n",
        "print(\"Área do triângulo = \" + str(Area))"
      ],
      "execution_count": 1,
      "outputs": [
        {
          "output_type": "stream",
          "text": [
            "Base do triângulo: 10\n",
            "Altura do triângulo: 20\n",
            "Área do triângulo = 100.0\n"
          ],
          "name": "stdout"
        }
      ]
    }
  ]
}