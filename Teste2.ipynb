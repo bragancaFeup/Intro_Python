{
 "cells": [
  {
   "cell_type": "markdown",
   "metadata": {},
   "source": [
    "ficheiro 2\n"
   ]
  },
  {
   "cell_type": "code",
   "execution_count": 1,
   "metadata": {},
   "outputs": [
    {
     "name": "stdout",
     "output_type": "stream",
     "text": [
      "Nº de valores da lista5\n",
      "Lista(0)1\n",
      "Lista(1)2\n",
      "Lista(2)3\n",
      "Lista(3)4\n",
      "Lista(4)5\n",
      "Média aritmética = 3.0\n"
     ]
    }
   ],
   "source": [
    "\n",
    "\"\"\"\"\n",
    "Autor: Bragança / Brito, A. E. S. C.\n",
    "Data: 2019\n",
    "E Objectivo: Dada uma lista de N valores calcular a sua média aritmética.\n",
    "\n",
    "    # Variáveis:\n",
    "   # Soma As Single #Soma dos valores da lista\n",
    "   # Media As Single #Média aritmética dos valores da lista\n",
    "\n",
    "\"\"\"\n",
    "\n",
    "\n",
    "\n",
    "\n",
    "N = int(input(\"Nº de valores da lista\"))     #Número de valores da lista\n",
    "Lista=[0]*N                                 #Valores da lista\n",
    "for K in range(0 , N):\n",
    "    Lista[K]=int( input(\"Lista(\" + str(K) + \")\"))\n",
    "\n",
    "Soma = 0  # Inicializa a variável Soma\n",
    "# Ciclo de leitura e soma dos valores da lista\n",
    "for K in range(0,N):\n",
    "    Soma = Soma + Lista[K]\n",
    "\n",
    "Media = Soma / N  # Calcula a média aritmética\n",
    "print(\"Média aritmética = \" + str(Media))\n",
    "\n",
    "\n",
    "\n"
   ]
  }
 ],
 "metadata": {
  "kernelspec": {
   "display_name": "Python 3",
   "language": "python",
   "name": "python3"
  },
  "language_info": {
   "codemirror_mode": {
    "name": "ipython",
    "version": 3
   },
   "file_extension": ".py",
   "mimetype": "text/x-python",
   "name": "python",
   "nbconvert_exporter": "python",
   "pygments_lexer": "ipython3",
   "version": "3.7.7"
  }
 },
 "nbformat": 4,
 "nbformat_minor": 4
}
