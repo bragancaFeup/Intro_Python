{
  "nbformat": 4,
  "nbformat_minor": 0,
  "metadata": {
    "colab": {
      "name": "02_02 Variables.ipynb",
      "provenance": [],
      "authorship_tag": "ABX9TyNvrQ0mu28GxKexe+kXiP/N",
      "include_colab_link": true
    },
    "kernelspec": {
      "name": "python3",
      "display_name": "Python 3"
    }
  },
  "cells": [
    {
      "cell_type": "markdown",
      "metadata": {
        "id": "view-in-github",
        "colab_type": "text"
      },
      "source": [
        "<a href=\"https://colab.research.google.com/github/bragancaFeup/Intro_Python/blob/master/02_02_Variables.ipynb\" target=\"_parent\"><img src=\"https://colab.research.google.com/assets/colab-badge.svg\" alt=\"Open In Colab\"/></a>"
      ]
    },
    {
      "cell_type": "markdown",
      "metadata": {
        "id": "UVGm-AgYaRtV",
        "colab_type": "text"
      },
      "source": [
        "**Python**\n",
        "\n",
        "António Brito / Carlos Bragança\n"
      ]
    },
    {
      "cell_type": "markdown",
      "metadata": {
        "id": "Goenh6-Ykn_O",
        "colab_type": "text"
      },
      "source": [
        "# Variables, expressions and statements"
      ]
    },
    {
      "cell_type": "markdown",
      "metadata": {
        "id": "W9roYM3GcEq9",
        "colab_type": "text"
      },
      "source": [
        "## Goals\n",
        "By the end of this class, the student should be able to:\n",
        "\n",
        "- Describe and distinguish the concepts of variable, location, value, type\n",
        "\n",
        "- Identify the Python reserved words\n",
        "\n",
        "- Describe the concepts of statement and expression\n",
        "\n",
        "- Identify some of the Python operands and their precedence\n",
        "\n",
        "- Use operators with suitable operands\n",
        "\n",
        "- Describe the Python type conversion operations and use them\n",
        "\n",
        "- Describe how to get input, at runtime, from an user of the program"
      ]
    },
    {
      "cell_type": "markdown",
      "metadata": {
        "id": "mf5hfMR2Zz1c",
        "colab_type": "text"
      },
      "source": [
        "A variable is a name that refers to a value"
      ]
    },
    {
      "cell_type": "markdown",
      "metadata": {
        "id": "aYldo6KncntF",
        "colab_type": "text"
      },
      "source": [
        "## Bibliography\n",
        "\n",
        "Lopes, João Correia. 2019. “Programming Fundamentals.” 2019. https://web.fe.up.pt/~jlopes/doku.php/teach/fpro/index.\n",
        "\n",
        "Severance, Charles R. 2018. “Python for Everybody (with Python 3),” 245. https://books.trinket.io/pfe/index.html.\n",
        "\n"
      ]
    },
    {
      "cell_type": "markdown",
      "metadata": {
        "id": "c133rWLjZncm",
        "colab_type": "text"
      },
      "source": [
        "# Variables\n",
        "\n",
        "Adaptado de Severance 2018 e Lopes 2019\n"
      ]
    },
    {
      "cell_type": "code",
      "metadata": {
        "id": "sK1v_X-5ZTVa",
        "colab_type": "code",
        "colab": {
          "base_uri": "https://localhost:8080/",
          "height": 51
        },
        "outputId": "8dd0f1cd-edbc-4fa1-ed58-62081732e23f"
      },
      "source": [
        "message = 'Hello, World!'\n",
        "print(message)\n",
        "type(message)"
      ],
      "execution_count": null,
      "outputs": [
        {
          "output_type": "stream",
          "text": [
            "Hello, World!\n"
          ],
          "name": "stdout"
        },
        {
          "output_type": "execute_result",
          "data": {
            "text/plain": [
              "str"
            ]
          },
          "metadata": {
            "tags": []
          },
          "execution_count": 1
        }
      ]
    },
    {
      "cell_type": "code",
      "metadata": {
        "colab_type": "code",
        "id": "GA1_evG0bXex",
        "colab": {
          "base_uri": "https://localhost:8080/",
          "height": 51
        },
        "outputId": "05733ed6-8e93-4004-c6f2-76cebacc10b0"
      },
      "source": [
        "n = 25\n",
        "print(n)\n",
        "type(n)"
      ],
      "execution_count": null,
      "outputs": [
        {
          "output_type": "stream",
          "text": [
            "25\n"
          ],
          "name": "stdout"
        },
        {
          "output_type": "execute_result",
          "data": {
            "text/plain": [
              "int"
            ]
          },
          "metadata": {
            "tags": []
          },
          "execution_count": 2
        }
      ]
    },
    {
      "cell_type": "code",
      "metadata": {
        "id": "b6bthhvsbgVf",
        "colab_type": "code",
        "colab": {
          "base_uri": "https://localhost:8080/",
          "height": 51
        },
        "outputId": "fbd02649-ec13-4ed4-cb65-65235cd48f18"
      },
      "source": [
        "pi = 3.14\n",
        "print (pi)\n",
        "type (pi)"
      ],
      "execution_count": null,
      "outputs": [
        {
          "output_type": "stream",
          "text": [
            "3.14\n"
          ],
          "name": "stdout"
        },
        {
          "output_type": "execute_result",
          "data": {
            "text/plain": [
              "float"
            ]
          },
          "metadata": {
            "tags": []
          },
          "execution_count": 3
        }
      ]
    }
  ]
}